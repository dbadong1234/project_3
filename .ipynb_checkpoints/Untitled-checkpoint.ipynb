{
 "cells": [
  {
   "cell_type": "code",
   "execution_count": 2,
   "metadata": {},
   "outputs": [
    {
     "data": {
      "text/plain": [
       "-1"
      ]
     },
     "execution_count": 2,
     "metadata": {},
     "output_type": "execute_result"
    }
   ],
   "source": [
    "import cv2\n",
    "import os\n",
    "import numpy as np\n",
    "import csv\n",
    "import glob\n",
    "\n",
    "label = \"Uninfected\"\n",
    "dirList = glob.glob(\"cell_images/\"+label+\"/*.png\")\n",
    "file = open(\"csv/dataset.csv\",\"a\")\n",
    "\n",
    "for img_path in dirList:\n",
    "\n",
    "\tim = cv2.imread(img_path)\n",
    "\t\n",
    "\tim = cv2.GaussianBlur(im,(5,5),2)\n",
    "\n",
    "\tim_gray = cv2.cvtColor(im,cv2.COLOR_BGR2GRAY)\n",
    "\n",
    "\tret,thresh = cv2.threshold(im_gray,127,255,0)\n",
    "\tcontours,_ = cv2.findContours(thresh,1,2)\n",
    "\t\n",
    "\tfor contour in contours:\n",
    "\t\tcv2.drawContours(im_gray, contours, -1, (0,255,0), 3)\n",
    "\t\n",
    "\n",
    "\tcv2.imshow(\"window\",im_gray)\n",
    "\n",
    "\tbreak\n",
    "\n",
    "\n",
    "\tfile.write(label)\n",
    "\tfile.write(\",\")\n",
    "\n",
    "\tfor i in range(5):\n",
    "\t\ttry:\n",
    "\t\t\tarea = cv2.contourArea(contours[i])\n",
    "\t\t\tfile.write(str(area))\n",
    "\t\texcept:\n",
    "\t\t\tfile.write(\"0\")\n",
    "\n",
    "\t\tfile.write(\",\")\n",
    "\n",
    "\t\n",
    "\tfile.write(\"\\n\")\n",
    "\n",
    "\n",
    "cv2.waitKey(19000)"
   ]
  },
  {
   "cell_type": "code",
   "execution_count": null,
   "metadata": {},
   "outputs": [],
   "source": []
  }
 ],
 "metadata": {
  "kernelspec": {
   "display_name": "Python 3",
   "language": "python",
   "name": "python3"
  },
  "language_info": {
   "codemirror_mode": {
    "name": "ipython",
    "version": 3
   },
   "file_extension": ".py",
   "mimetype": "text/x-python",
   "name": "python",
   "nbconvert_exporter": "python",
   "pygments_lexer": "ipython3",
   "version": "3.7.4"
  }
 },
 "nbformat": 4,
 "nbformat_minor": 2
}
