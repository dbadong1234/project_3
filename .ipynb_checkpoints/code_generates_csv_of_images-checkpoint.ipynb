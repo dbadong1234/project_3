{
 "cells": [
  {
   "cell_type": "code",
   "execution_count": 1,
   "metadata": {},
   "outputs": [],
   "source": [
    "import os\n",
    "import cv2\n",
    "import numpy as np\n",
    "import csv\n",
    "import glob"
   ]
  },
  {
   "cell_type": "code",
   "execution_count": 2,
   "metadata": {},
   "outputs": [],
   "source": [
    "label = \"Parasitized\"\n",
    "dirList = glob.glob(\"Data/cell_images/\"+label+\"/*.png\")\n",
    "file = open(\"Data/dataset.csv\",\"a\")"
   ]
  },
  {
   "cell_type": "code",
   "execution_count": null,
   "metadata": {},
   "outputs": [],
   "source": [
    "for img_path in dirList:\n",
    "\n",
    "    image = cv2.imread(img_path)\n",
    "    image = cv2.GaussianBlur(image,(5,5),2)\n",
    "    \n",
    "    # convert images to grayscale\n",
    "    image_gray = cv2.cvtColor(image,cv2.COLOR_BGR2GRAY)\n",
    "    \n",
    "    #thresholding \n",
    "    ret,thresh = cv2.threshold(image_gray,127,255,0)\n",
    "    contours,_ = cv2.findContours(thresh,1,2)\n",
    "\n",
    "    for contour in contours:\n",
    "        cv2.drawContours(image_gray, contours, -1, (0,255,0), 3)\n",
    "\n",
    "    cv2.imshow(\"window\",image_gray)\n",
    "\n",
    "    break\n",
    "    \n",
    "    file.write(label)\n",
    "    file.write(\",\")\n",
    "\n",
    "    for i in range():\n",
    "        try:\n",
    "            area = cv2.contourArea(contours[i])\n",
    "            file.write(str(area))\n",
    "        except:\n",
    "            file.write(\"0\")\n",
    "        \n",
    "        file.write(\",\")\n",
    "\n",
    "    file.write(\"\\n\")\n",
    "\n",
    "# displays image, here we chose 0 because we don't need to see the image\n",
    "cv2.waitKey(19000)"
   ]
  },
  {
   "cell_type": "code",
   "execution_count": null,
   "metadata": {},
   "outputs": [],
   "source": []
  }
 ],
 "metadata": {
  "kernelspec": {
   "display_name": "Python 3",
   "language": "python",
   "name": "python3"
  },
  "language_info": {
   "codemirror_mode": {
    "name": "ipython",
    "version": 3
   },
   "file_extension": ".py",
   "mimetype": "text/x-python",
   "name": "python",
   "nbconvert_exporter": "python",
   "pygments_lexer": "ipython3",
   "version": "3.7.4"
  }
 },
 "nbformat": 4,
 "nbformat_minor": 2
}
