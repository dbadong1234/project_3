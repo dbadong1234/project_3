{
 "cells": [
  {
   "cell_type": "code",
   "execution_count": 3,
   "metadata": {},
   "outputs": [],
   "source": [
    "import cv2\n",
    "import os\n",
    "import numpy as np\n",
    "import csv\n",
    "import glob"
   ]
  },
  {
   "cell_type": "code",
   "execution_count": 4,
   "metadata": {},
   "outputs": [],
   "source": [
    "label = \"Uninfected\"\n",
    "dirList = glob.glob(\"cell_images/\"+label+\"/*.png\")\n",
    "file = open(\"csv/dataset.csv\",\"a\")"
   ]
  },
  {
   "cell_type": "code",
   "execution_count": 5,
   "metadata": {},
   "outputs": [
    {
     "data": {
      "text/plain": [
       "-1"
      ]
     },
     "execution_count": 5,
     "metadata": {},
     "output_type": "execute_result"
    }
   ],
   "source": [
    "for img_path in dirList:\n",
    "\n",
    "    im = cv2.imread(img_path)\n",
    "\n",
    "    im = cv2.GaussianBlur(im,(5,5),2)\n",
    "\n",
    "    im_gray = cv2.cvtColor(im,cv2.COLOR_BGR2GRAY)\n",
    "\n",
    "    ret,thresh = cv2.threshold(im_gray,127,255,0)\n",
    "    contours,_ = cv2.findContours(thresh,1,2)\n",
    "\n",
    "    for contour in contours:\n",
    "        cv2.drawContours(im_gray, contours, -1, (0,255,0), 3)\n",
    "\n",
    "        \n",
    "    cv2.imshow(\"window\",im_gray)\n",
    "\n",
    "    break\n",
    "\n",
    "\n",
    "    file.write(label)\n",
    "    file.write(\",\")\n",
    "\n",
    "    for i in range(5):\n",
    "        try:\n",
    "            area = cv2.contourArea(contours[i])\n",
    "            file.write(str(area))\n",
    "        except:\n",
    "            file.write(\"0\")\n",
    "\n",
    "        file.write(\",\")\n",
    "\n",
    "file.write(\"\\n\")\n",
    "\n",
    "\n",
    "cv2.waitKey(19000)"
   ]
  },
  {
   "cell_type": "code",
   "execution_count": null,
   "metadata": {},
   "outputs": [],
   "source": []
  }
 ],
 "metadata": {
  "kernelspec": {
   "display_name": "Python 3",
   "language": "python",
   "name": "python3"
  },
  "language_info": {
   "codemirror_mode": {
    "name": "ipython",
    "version": 3
   },
   "file_extension": ".py",
   "mimetype": "text/x-python",
   "name": "python",
   "nbconvert_exporter": "python",
   "pygments_lexer": "ipython3",
   "version": "3.7.4"
  }
 },
 "nbformat": 4,
 "nbformat_minor": 2
}
