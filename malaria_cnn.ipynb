{
 "cells": [
  {
   "cell_type": "markdown",
   "metadata": {},
   "source": [
    "# Import Dependencies and Data"
   ]
  },
  {
   "cell_type": "code",
   "execution_count": 1,
   "metadata": {},
   "outputs": [],
   "source": [
    "# import operating system \n",
    "import os"
   ]
  },
  {
   "cell_type": "code",
   "execution_count": 2,
   "metadata": {},
   "outputs": [],
   "source": [
    "# import plotting dependencies\n",
    "import numpy as np\n",
    "import pandas as pd\n",
    "import datetime\n",
    "import matplotlib.pyplot as plt \n",
    "%matplotlib inline "
   ]
  },
  {
   "cell_type": "code",
   "execution_count": 3,
   "metadata": {},
   "outputs": [],
   "source": [
    "# import SciKitLearn, Keras, tensorflow, and image \"rendering\"\n",
    "# cv2 is a Python library of bindings designed to solve computer vision problems\n",
    "import cv2\n",
    "import glob\n",
    "import tensorflow as tf\n",
    "from sklearn.model_selection import train_test_split\n",
    "from sklearn.preprocessing import LabelEncoder\n",
    "from collections import Counter\n",
    "from concurrent import futures \n",
    "import threading "
   ]
  },
  {
   "cell_type": "code",
   "execution_count": 4,
   "metadata": {},
   "outputs": [],
   "source": [
    "# set random seed for reproducibility across different users \n",
    "np.random.seed(42)"
   ]
  },
  {
   "cell_type": "code",
   "execution_count": 5,
   "metadata": {},
   "outputs": [
    {
     "data": {
      "text/plain": [
       "'2.1.0'"
      ]
     },
     "execution_count": 5,
     "metadata": {},
     "output_type": "execute_result"
    }
   ],
   "source": [
    "tf.random.set_seed(42)\n",
    "tf.__version__"
   ]
  },
  {
   "cell_type": "markdown",
   "metadata": {},
   "source": [
    "# Load Data into DataFrames"
   ]
  },
  {
   "cell_type": "code",
   "execution_count": 13,
   "metadata": {},
   "outputs": [],
   "source": [
    "base_dir = os.path.join('/cell_images')"
   ]
  },
  {
   "cell_type": "code",
   "execution_count": 14,
   "metadata": {},
   "outputs": [],
   "source": [
    "valid_para_dir = os.path.join(base_dir,'Parasitized')\n",
    "valid_healthy_dir = os.path.join(base_dir,'Uninfected')"
   ]
  },
  {
   "cell_type": "code",
   "execution_count": 15,
   "metadata": {},
   "outputs": [],
   "source": [
    "# Validation data files \n",
    "\n",
    "\n",
    "# Find validation data, and sort into parasitized and uninfected using glob, a python module which will iterate \n",
    "# through all images (as png files) and create a list of files in a directory. Glob follows UNIX path expansion rules.\n",
    "\n",
    "valid_para_files = glob.glob(valid_para_dir+'/*.png')\n",
    "\n",
    "\n",
    "valid_healthy_files = glob.glob(valid_healthy_dir+'/*.png')"
   ]
  },
  {
   "cell_type": "code",
   "execution_count": 6,
   "metadata": {},
   "outputs": [
    {
     "data": {
      "text/plain": [
       "(13779, 13779)"
      ]
     },
     "execution_count": 6,
     "metadata": {},
     "output_type": "execute_result"
    }
   ],
   "source": [
    "import os\n",
    "import glob\n",
    "\n",
    "base_dir = os.path.join('./cell_images/')\n",
    "infected_dir = os.path.join(base_dir,'Parasitized')\n",
    "healthy_dir = os.path.join(base_dir,'Uninfected')\n",
    "\n",
    "infected_files = glob.glob(infected_dir+'/*.png')\n",
    "healthy_files = glob.glob(healthy_dir+'/*.png')\n",
    "len(infected_files), len(healthy_files)"
   ]
  },
  {
   "cell_type": "code",
   "execution_count": 16,
   "metadata": {},
   "outputs": [
    {
     "data": {
      "text/plain": [
       "(0, 0)"
      ]
     },
     "execution_count": 16,
     "metadata": {},
     "output_type": "execute_result"
    }
   ],
   "source": [
    "# Length of files from validation set \n",
    "len(valid_para_files), len(valid_healthy_files)"
   ]
  },
  {
   "cell_type": "code",
   "execution_count": 8,
   "metadata": {},
   "outputs": [
    {
     "data": {
      "text/html": [
       "<div>\n",
       "<style scoped>\n",
       "    .dataframe tbody tr th:only-of-type {\n",
       "        vertical-align: middle;\n",
       "    }\n",
       "\n",
       "    .dataframe tbody tr th {\n",
       "        vertical-align: top;\n",
       "    }\n",
       "\n",
       "    .dataframe thead th {\n",
       "        text-align: right;\n",
       "    }\n",
       "</style>\n",
       "<table border=\"1\" class=\"dataframe\">\n",
       "  <thead>\n",
       "    <tr style=\"text-align: right;\">\n",
       "      <th></th>\n",
       "      <th>filename</th>\n",
       "      <th>label</th>\n",
       "    </tr>\n",
       "  </thead>\n",
       "  <tbody>\n",
       "  </tbody>\n",
       "</table>\n",
       "</div>"
      ],
      "text/plain": [
       "Empty DataFrame\n",
       "Columns: [filename, label]\n",
       "Index: []"
      ]
     },
     "execution_count": 8,
     "metadata": {},
     "output_type": "execute_result"
    }
   ],
   "source": [
    "# Create validation data dataframe\n",
    "valid_df = pd.DataFrame({'filename': valid_para_files + valid_healthy_files, \n",
    "           'label': ['Parasitized'] * len(valid_healthy_files) +\n",
    "                    ['Uninfected'] * len(valid_healthy_files)}).sample(frac=1, random_state=42).reset_index(drop=True)\n",
    "valid_df.head()"
   ]
  },
  {
   "cell_type": "code",
   "execution_count": 9,
   "metadata": {},
   "outputs": [
    {
     "name": "stdout",
     "output_type": "stream",
     "text": [
      "<class 'pandas.core.frame.DataFrame'>\n",
      "RangeIndex: 5512 entries, 0 to 5511\n",
      "Data columns (total 2 columns):\n",
      "filename    5512 non-null object\n",
      "label       5512 non-null object\n",
      "dtypes: object(2)\n",
      "memory usage: 86.2+ KB\n"
     ]
    },
    {
     "data": {
      "text/plain": [
       "(5512, 2)"
      ]
     },
     "execution_count": 9,
     "metadata": {},
     "output_type": "execute_result"
    }
   ],
   "source": [
    "# first sanity check \n",
    "valid_df.info()\n",
    "valid_df.shape"
   ]
  },
  {
   "cell_type": "code",
   "execution_count": 10,
   "metadata": {},
   "outputs": [],
   "source": [
    "# Training data files \n",
    "base_dir = os.path.join('cell_images/train')\n",
    "train_para_dir = os.path.join(base_dir,'Parasitized')\n",
    "train_para_files = glob.glob(train_para_dir+'/*.png')\n",
    "train_healthy_dir = os.path.join(base_dir,'Uninfected')\n",
    "train_healthy_files = glob.glob(train_healthy_dir+'/*.png')"
   ]
  },
  {
   "cell_type": "code",
   "execution_count": 11,
   "metadata": {},
   "outputs": [
    {
     "data": {
      "text/plain": [
       "(11023, 11023)"
      ]
     },
     "execution_count": 11,
     "metadata": {},
     "output_type": "execute_result"
    }
   ],
   "source": [
    "# Length of files from validation set \n",
    "len(train_para_files), len(train_healthy_files)"
   ]
  },
  {
   "cell_type": "code",
   "execution_count": 12,
   "metadata": {},
   "outputs": [
    {
     "data": {
      "text/html": [
       "<div>\n",
       "<style scoped>\n",
       "    .dataframe tbody tr th:only-of-type {\n",
       "        vertical-align: middle;\n",
       "    }\n",
       "\n",
       "    .dataframe tbody tr th {\n",
       "        vertical-align: top;\n",
       "    }\n",
       "\n",
       "    .dataframe thead th {\n",
       "        text-align: right;\n",
       "    }\n",
       "</style>\n",
       "<table border=\"1\" class=\"dataframe\">\n",
       "  <thead>\n",
       "    <tr style=\"text-align: right;\">\n",
       "      <th></th>\n",
       "      <th>filename</th>\n",
       "      <th>label</th>\n",
       "    </tr>\n",
       "  </thead>\n",
       "  <tbody>\n",
       "    <tr>\n",
       "      <th>0</th>\n",
       "      <td>cell_images/train/Parasitized/C128P89ThinF_IMG...</td>\n",
       "      <td>Parasitized</td>\n",
       "    </tr>\n",
       "    <tr>\n",
       "      <th>1</th>\n",
       "      <td>cell_images/train/Uninfected/C53P14thinF_IMG_2...</td>\n",
       "      <td>Uninfected</td>\n",
       "    </tr>\n",
       "    <tr>\n",
       "      <th>2</th>\n",
       "      <td>cell_images/train/Parasitized/C99P60ThinF_IMG_...</td>\n",
       "      <td>Parasitized</td>\n",
       "    </tr>\n",
       "    <tr>\n",
       "      <th>3</th>\n",
       "      <td>cell_images/train/Parasitized/C186P147NThinF_I...</td>\n",
       "      <td>Parasitized</td>\n",
       "    </tr>\n",
       "    <tr>\n",
       "      <th>4</th>\n",
       "      <td>cell_images/train/Parasitized/C59P20thinF_IMG_...</td>\n",
       "      <td>Parasitized</td>\n",
       "    </tr>\n",
       "  </tbody>\n",
       "</table>\n",
       "</div>"
      ],
      "text/plain": [
       "                                            filename        label\n",
       "0  cell_images/train/Parasitized/C128P89ThinF_IMG...  Parasitized\n",
       "1  cell_images/train/Uninfected/C53P14thinF_IMG_2...   Uninfected\n",
       "2  cell_images/train/Parasitized/C99P60ThinF_IMG_...  Parasitized\n",
       "3  cell_images/train/Parasitized/C186P147NThinF_I...  Parasitized\n",
       "4  cell_images/train/Parasitized/C59P20thinF_IMG_...  Parasitized"
      ]
     },
     "execution_count": 12,
     "metadata": {},
     "output_type": "execute_result"
    }
   ],
   "source": [
    "# Create training data dataframe \n",
    "train_df = pd.DataFrame({'filename': train_para_files + train_healthy_files,\n",
    "           'label': ['Parasitized'] * len(train_para_files) + \n",
    "                    ['Uninfected'] * len(train_healthy_files)}).sample(frac=1, random_state=42).reset_index(drop=True)\n",
    "\n",
    "train_df.head()"
   ]
  },
  {
   "cell_type": "code",
   "execution_count": 13,
   "metadata": {},
   "outputs": [
    {
     "name": "stdout",
     "output_type": "stream",
     "text": [
      "<class 'pandas.core.frame.DataFrame'>\n",
      "RangeIndex: 22046 entries, 0 to 22045\n",
      "Data columns (total 2 columns):\n",
      "filename    22046 non-null object\n",
      "label       22046 non-null object\n",
      "dtypes: object(2)\n",
      "memory usage: 344.5+ KB\n"
     ]
    },
    {
     "data": {
      "text/plain": [
       "(22046, 2)"
      ]
     },
     "execution_count": 13,
     "metadata": {},
     "output_type": "execute_result"
    }
   ],
   "source": [
    "# second sanity check\n",
    "train_df.info()\n",
    "train_df.shape"
   ]
  },
  {
   "cell_type": "code",
   "execution_count": 14,
   "metadata": {},
   "outputs": [
    {
     "data": {
      "text/html": [
       "<div>\n",
       "<style scoped>\n",
       "    .dataframe tbody tr th:only-of-type {\n",
       "        vertical-align: middle;\n",
       "    }\n",
       "\n",
       "    .dataframe tbody tr th {\n",
       "        vertical-align: top;\n",
       "    }\n",
       "\n",
       "    .dataframe thead th {\n",
       "        text-align: right;\n",
       "    }\n",
       "</style>\n",
       "<table border=\"1\" class=\"dataframe\">\n",
       "  <thead>\n",
       "    <tr style=\"text-align: right;\">\n",
       "      <th></th>\n",
       "      <th>filename</th>\n",
       "      <th>label</th>\n",
       "    </tr>\n",
       "  </thead>\n",
       "  <tbody>\n",
       "    <tr>\n",
       "      <th>0</th>\n",
       "      <td>cell_images/valid/Uninfected/C205ThinF_IMG_201...</td>\n",
       "      <td>Uninfected</td>\n",
       "    </tr>\n",
       "    <tr>\n",
       "      <th>1</th>\n",
       "      <td>cell_images/valid/Uninfected/C75P36_ThinF_IMG_...</td>\n",
       "      <td>Uninfected</td>\n",
       "    </tr>\n",
       "    <tr>\n",
       "      <th>2</th>\n",
       "      <td>cell_images/valid/Parasitized/ParasitizedC39P4...</td>\n",
       "      <td>Parasitized</td>\n",
       "    </tr>\n",
       "    <tr>\n",
       "      <th>3</th>\n",
       "      <td>cell_images/valid/Uninfected/C72P33_ThinF_IMG_...</td>\n",
       "      <td>Uninfected</td>\n",
       "    </tr>\n",
       "    <tr>\n",
       "      <th>4</th>\n",
       "      <td>cell_images/valid/Parasitized/ParasitizedC180P...</td>\n",
       "      <td>Parasitized</td>\n",
       "    </tr>\n",
       "  </tbody>\n",
       "</table>\n",
       "</div>"
      ],
      "text/plain": [
       "                                            filename        label\n",
       "0  cell_images/valid/Uninfected/C205ThinF_IMG_201...   Uninfected\n",
       "1  cell_images/valid/Uninfected/C75P36_ThinF_IMG_...   Uninfected\n",
       "2  cell_images/valid/Parasitized/ParasitizedC39P4...  Parasitized\n",
       "3  cell_images/valid/Uninfected/C72P33_ThinF_IMG_...   Uninfected\n",
       "4  cell_images/valid/Parasitized/ParasitizedC180P...  Parasitized"
      ]
     },
     "execution_count": 14,
     "metadata": {},
     "output_type": "execute_result"
    }
   ],
   "source": [
    "# combine the two different dataframes from the training and validation data \n",
    "dataframes = [valid_df, train_df]\n",
    "df = pd.concat(dataframes)\n",
    "\n",
    "df.head()"
   ]
  },
  {
   "cell_type": "code",
   "execution_count": 15,
   "metadata": {},
   "outputs": [
    {
     "name": "stdout",
     "output_type": "stream",
     "text": [
      "<class 'pandas.core.frame.DataFrame'>\n",
      "Int64Index: 27558 entries, 0 to 22045\n",
      "Data columns (total 2 columns):\n",
      "filename    27558 non-null object\n",
      "label       27558 non-null object\n",
      "dtypes: object(2)\n",
      "memory usage: 645.9+ KB\n"
     ]
    },
    {
     "data": {
      "text/plain": [
       "(27558, 2)"
      ]
     },
     "execution_count": 15,
     "metadata": {},
     "output_type": "execute_result"
    }
   ],
   "source": [
    "# third  sanity check because things often get weird up in here. \n",
    "df.info()\n",
    "df.shape"
   ]
  },
  {
   "cell_type": "markdown",
   "metadata": {},
   "source": [
    "# Setting up Train-Test-Split"
   ]
  },
  {
   "cell_type": "code",
   "execution_count": 21,
   "metadata": {},
   "outputs": [
    {
     "name": "stdout",
     "output_type": "stream",
     "text": [
      "(17361,) (1929,) (8268,)\n",
      "Training: Counter({'Parasitized': 8682, 'Uninfected': 8679}) \n",
      "Validation: Counter({'Uninfected': 977, 'Parasitized': 952}) \n",
      "Testing: Counter({'Parasitized': 4145, 'Uninfected': 4123})\n"
     ]
    }
   ],
   "source": [
    "# train test split and get shape of files \n",
    "train_files, test_files, train_labels, test_labels = train_test_split(df['filename'].values,\n",
    "                                                                      df['label'].values,\n",
    "                                                                      test_size=0.3, random_state=42)\n",
    "\n",
    "train_files, valid_files, train_labels, valid_labels = train_test_split(train_files,\n",
    "                                                                    train_labels,\n",
    "                                                                    test_size=0.1, random_state=42)\n",
    "\n",
    "print(train_files.shape, valid_files.shape, test_files.shape)\n",
    "print('Training:', Counter(train_labels),'\\nValidation:', Counter(valid_labels), '\\nTesting:', Counter(test_labels))\n"
   ]
  },
  {
   "cell_type": "markdown",
   "metadata": {},
   "source": [
    "# Image Pre-Processing (This takes forever)\n"
   ]
  },
  {
   "cell_type": "code",
   "execution_count": 47,
   "metadata": {},
   "outputs": [
    {
     "name": "stdout",
     "output_type": "stream",
     "text": [
      "Starting Image shape Computations...\n",
      "ThreadPoolExecutor-2_0: working on img num: 0\n",
      "ThreadPoolExecutor-2_19: working on img num: 5000\n",
      "ThreadPoolExecutor-2_0: working on img num: 10000\n",
      "ThreadPoolExecutor-2_27: working on img num: 15000\n",
      "ThreadPoolExecutor-2_8: working on img num: 17360\n",
      "Min Dimensions: [50 50  3]\n",
      "Avg Dimensions: [50. 50.  3.]\n",
      "Median Dimensions: [50. 50.  3.]\n",
      "Max Dimensions: [50 50  3]\n"
     ]
    }
   ],
   "source": [
    "# this is to get the image shapes since they all might not be the same\n",
    "def get_img_shape_parallel(index, image, total_images):\n",
    "    if index % 5000 == 0 or index == (total_images - 1):\n",
    "        print('{}: working on img num: {}'.format(threading.current_thread().name, index))\n",
    "        \n",
    "    return cv2.imread(image).shape\n",
    "  \n",
    "execute = futures.ThreadPoolExecutor(max_workers=None)\n",
    "data_input = [(index, image, len(train_files)) for index, image in enumerate(train_files)]\n",
    "print('Starting Image shape Computations...')\n",
    "\n",
    "train_image_dimensions_map = execute.map(get_img_shape_parallel, \n",
    "                            [record[0] for record in data_input],\n",
    "                            [record[1] for record in data_input],\n",
    "                            [record[2] for record in data_input])\n",
    "train_image_dimensions = list(train_image_dimensions_map)\n",
    "\n",
    "print('Min Dimensions:', np.min(train_image_dimensions, axis=0)) \n",
    "print('Avg Dimensions:', np.mean(train_image_dimensions, axis=0))\n",
    "print('Median Dimensions:', np.median(train_image_dimensions, axis=0))\n",
    "print('Max Dimensions:', np.max(train_image_dimensions, axis=0))"
   ]
  },
  {
   "cell_type": "markdown",
   "metadata": {},
   "source": [
    "When you create a Thread, you pass it a function and a list containing the arguments to that function. In this case, you’re telling the Thread to run thread_function() and to pass it 1 as an argument.\n",
    "\n"
   ]
  },
  {
   "cell_type": "markdown",
   "metadata": {},
   "source": [
    "# This takes five-ever "
   ]
  },
  {
   "cell_type": "code",
   "execution_count": 22,
   "metadata": {},
   "outputs": [
    {
     "name": "stdout",
     "output_type": "stream",
     "text": [
      "Loading Train Images...\n",
      "ThreadPoolExecutor-0_0: working on image number: 0\n",
      "ThreadPoolExecutor-0_34: working on image number: 5000\n",
      "ThreadPoolExecutor-0_36: working on image number: 10000\n",
      "ThreadPoolExecutor-0_12: working on image number: 15000\n",
      "ThreadPoolExecutor-0_19: working on image number: 17360\n",
      "Training Data Shape: (17361, 50, 50, 3)\n",
      "------------------------------------------------------------\n",
      "Loading Validation Images...\n",
      "ThreadPoolExecutor-0_10: working on image number: 0\n",
      "ThreadPoolExecutor-0_31: working on image number: 1928\n",
      "Validation Data Shape: (1929, 50, 50, 3)\n",
      "------------------------------------------------------------\n",
      "Loading Test Images...\n",
      "ThreadPoolExecutor-0_18: working on image number: 0\n",
      "ThreadPoolExecutor-0_18: working on image number: 5000\n",
      "ThreadPoolExecutor-0_13: working on image number: 8267\n",
      "Testing Data Shape: (8268, 50, 50, 3)\n"
     ]
    }
   ],
   "source": [
    "# load images in the defined size so that they are consistent \n",
    "\n",
    "image_dimensions = img_dims = (50, 50)\n",
    "\n",
    "def get_img_data_parallel(index, image, total_images):\n",
    "    if index % 5000 == 0 or index == (total_images - 1):\n",
    "        print('{}: working on image number: {}'.format(threading.current_thread().name, index))\n",
    "    image = cv2.imread(image)\n",
    "    image = cv2.resize(image, dsize= img_dims, \n",
    "                     interpolation=cv2.INTER_CUBIC)\n",
    "    image = np.array(image, dtype=np.float32)\n",
    "    return image\n",
    "\n",
    "execute = futures.ThreadPoolExecutor(max_workers=None)\n",
    "\n",
    "train_data_input = [(index, image, len(train_files)) for index, image in enumerate(train_files)]\n",
    "valid_data_input = [(index, image, len(valid_files)) for index, image in enumerate(valid_files)]\n",
    "test_data_input = [(index, image, len(test_files)) for index, image in enumerate(test_files)]\n",
    "\n",
    "print('Loading Train Images...')\n",
    "train_data_map = execute.map(get_img_data_parallel, \n",
    "                        [record[0] for record in train_data_input],\n",
    "                        [record[1] for record in train_data_input],\n",
    "                        [record[2] for record in train_data_input])\n",
    "train_data = np.array(list(train_data_map))\n",
    "print(f\"Training Data Shape: {train_data.shape}\")\n",
    "print(\"-\"*60)\n",
    "print('Loading Validation Images...')\n",
    "valid_data_map = execute.map(get_img_data_parallel, \n",
    "                        [record[0] for record in valid_data_input],\n",
    "                        [record[1] for record in valid_data_input],\n",
    "                        [record[2] for record in valid_data_input])\n",
    "valid_data = np.array(list(valid_data_map))\n",
    "print(f\"Validation Data Shape: {valid_data.shape}\")\n",
    "print(\"-\"*60)\n",
    "print('Loading Test Images...')\n",
    "test_data_map = execute.map(get_img_data_parallel, \n",
    "                        [record[0] for record in test_data_input],\n",
    "                        [record[1] for record in test_data_input],\n",
    "                        [record[2] for record in test_data_input])\n",
    "test_data = np.array(list(test_data_map))\n",
    "print(f\"Testing Data Shape: {test_data.shape}\")"
   ]
  },
  {
   "cell_type": "code",
   "execution_count": 28,
   "metadata": {},
   "outputs": [],
   "source": [
    "%matplotlib inline"
   ]
  },
  {
   "cell_type": "code",
   "execution_count": 29,
   "metadata": {},
   "outputs": [
    {
     "name": "stdout",
     "output_type": "stream",
     "text": [
      "['Uninfected' 'Uninfected' 'Parasitized' 'Uninfected' 'Parasitized'\n",
      " 'Uninfected' 'Uninfected' 'Uninfected' 'Parasitized' 'Parasitized'\n",
      " 'Parasitized' 'Parasitized' 'Uninfected' 'Parasitized' 'Uninfected'\n",
      " 'Uninfected'] [1 1 0 1 0 1 1 1 0 0 0 0 1 0 1 1]\n"
     ]
    },
    {
     "data": {
      "image/png": "[encoded data removed]",
      "text/plain": [
       "<Figure size 576x576 with 16 Axes>"
      ]
     },
     "metadata": {},
     "output_type": "display_data"
    }
   ],
   "source": [
    "# use matplotlib to print pictures \n",
    "plt.figure(1 , figsize = (8 , 8))\n",
    "n = 0 \n",
    "for i in range(16):\n",
    "    \n",
    "    n += 1 \n",
    "    r = np.random.randint(42 , train_data.shape[0] , 1)\n",
    "    \n",
    "    plt.subplot(4 , 4 , n)\n",
    "    \n",
    "    plt.subplots_adjust(hspace = 0.5 , wspace = 0.5)\n",
    "    \n",
    "    plt.imshow(train_data[r[0]]/255.)\n",
    "    \n",
    "    plt.title('{}'.format(train_labels[r[0]]))\n",
    "    \n",
    "    plt.xticks([]) , plt.yticks([])\n",
    "    \n",
    "print(train_labels[:16], enc_train_labels[:16])"
   ]
  },
  {
   "cell_type": "code",
   "execution_count": 30,
   "metadata": {
    "scrolled": true
   },
   "outputs": [
    {
     "name": "stdout",
     "output_type": "stream",
     "text": [
      "['Parasitized' 'Uninfected' 'Uninfected' 'Parasitized' 'Parasitized'\n",
      " 'Uninfected' 'Uninfected' 'Parasitized' 'Parasitized' 'Uninfected'\n",
      " 'Uninfected' 'Uninfected' 'Uninfected' 'Parasitized' 'Parasitized'\n",
      " 'Uninfected'] [0 1 1 0 0 1 1 0 0 1 1 1 1 0 0 1]\n"
     ]
    },
    {
     "data": {
      "image/png": "[encoded data removed]",
      "text/plain": [
       "<Figure size 576x576 with 16 Axes>"
      ]
     },
     "metadata": {},
     "output_type": "display_data"
    }
   ],
   "source": [
    "plt.figure(1 , figsize = (8 , 8))\n",
    "n = 0 \n",
    "for i in range(16):\n",
    "    \n",
    "    n += 1 \n",
    "    r = np.random.randint(42 , valid_data.shape[0] , 1)\n",
    "    \n",
    "    plt.subplot(4 , 4 , n)\n",
    "    \n",
    "    plt.subplots_adjust(hspace = 0.5 , wspace = 0.5)\n",
    "    \n",
    "    plt.imshow(valid_data[r[0]]/255.)\n",
    "    \n",
    "    plt.title('{}'.format(valid_labels[r[0]]))\n",
    "    \n",
    "    plt.xticks([]) , plt.yticks([])\n",
    "    \n",
    "print(valid_labels[:16], enc_valid_labels[:16])"
   ]
  },
  {
   "cell_type": "code",
   "execution_count": 31,
   "metadata": {},
   "outputs": [],
   "source": [
    "# configure data with labels and scaling\n",
    "scaled_train_images = train_data / 255\n",
    "scaled_valid_images = valid_data / 255\n",
    "\n",
    "from sklearn.preprocessing import LabelEncoder\n",
    "le = LabelEncoder()\n",
    "le.fit(train_labels)\n",
    "enc_train_labels = le.transform(train_labels)\n",
    "enc_valid_labels= le.transform(valid_labels)"
   ]
  },
  {
   "cell_type": "markdown",
   "metadata": {},
   "source": [
    "# Now for the Neural Network"
   ]
  },
  {
   "cell_type": "code",
   "execution_count": 32,
   "metadata": {},
   "outputs": [],
   "source": [
    "# define image input shape and define inputs\n",
    "input_shape = (50, 50, 3)\n",
    "input = tf.keras.layers.Input(shape= input_shape)"
   ]
  },
  {
   "cell_type": "code",
   "execution_count": 53,
   "metadata": {},
   "outputs": [],
   "source": [
    "# build model architecture \n",
    "conv_1 = tf.keras.layers.Conv2D(32, kernel_size=(3, 3), activation='relu', padding='same')(input)\n",
    "pool_1 = tf.keras.layers.MaxPooling2D(pool_size=(2, 2))(conv_1)\n",
    "\n",
    "conv_2 = tf.keras.layers.Conv2D(64, kernel_size=(3, 3), activation='relu', padding='same')(pool_1)\n",
    "pool_2 = tf.keras.layers.MaxPooling2D(pool_size=(2, 2))(conv_2)\n",
    "\n",
    "conv_3 = tf.keras.layers.Conv2D(128, kernel_size=(3, 3), activation='relu', padding='same')(pool_2)\n",
    "pool_3 = tf.keras.layers.MaxPooling2D(pool_size=(2, 2))(conv_3)\n",
    "\n",
    "flat = tf.keras.layers.Flatten()(pool_3)"
   ]
  },
  {
   "cell_type": "code",
   "execution_count": 54,
   "metadata": {},
   "outputs": [],
   "source": [
    "# build-in dropouts since this dataset is relatively small, over-fitting is likely. The drop out rate of 0.5 is chosen arbitrarily. \n",
    "hidden_1 = tf.keras.layers.Dense(512, activation='relu')(flat)\n",
    "dropout_1 = tf.keras.layers.Dropout(rate=0.5)(hidden_1)\n",
    "\n",
    "hidden_2 = tf.keras.layers.Dense(512, activation='relu')(dropout_1)\n",
    "dropout_2 = tf.keras.layers.Dropout(rate=0.5)(hidden_2)\n",
    "\n",
    "output = tf.keras.layers.Dense(1, activation='sigmoid')(dropout_2)"
   ]
  },
  {
   "cell_type": "markdown",
   "metadata": {},
   "source": [
    "Example Architecture: Overview. We will go into more details below, but a simple ConvNet for CIFAR-10 classification could have the architecture [INPUT - CONV - RELU - POOL - FC]. In more detail:\n",
    "\n",
    "INPUT [32x32x3] will hold the raw pixel values of the image, in this case an image of width 32, height 32, and with three color channels R,G,B.\n",
    "\n",
    "CONV layer will compute the output of neurons that are connected to local regions in the input, each computing a dot product between their weights and a small region they are connected to in the input volume. This may result in volume such as [32x32x12] if we decided to use 12 filters.\n",
    "\n",
    "RELU layer will apply an elementwise activation function, such as the max(0,x)\n",
    "m\n",
    "a\n",
    "x\n",
    "(\n",
    "0\n",
    ",\n",
    "x\n",
    ")\n",
    " thresholding at zero. This leaves the size of the volume unchanged ([32x32x12]).\n",
    " \n",
    "POOL layer will perform a downsampling operation along the spatial dimensions (width, height), resulting in volume such as [16x16x12].\n",
    "http://cs231n.github.io/convolutional-networks/\n",
    "\n",
    "so-called hidden layer because its values are not observed in the training set.\n",
    "https://towardsdatascience.com/understanding-neural-networks-from-neuron-to-rnn-cnn-and-deep-learning-cd88e90e0a90\n",
    "\n",
    "prevent overfitting Simply put, dropout refers to ignoring units (i.e. neurons) during the training phase of certain set of neurons which is chosen at random. By “ignoring”, I mean these units are not considered during a particular forward or backward pass.\n",
    "More technically, At each training stage, individual nodes are either dropped out of the net with probability 1-p or kept with probability p, so that a reduced network is left; incoming and outgoing edges to a dropped-out node are also removed.\n",
    "https://medium.com/@amarbudhiraja/https-medium-com-amarbudhiraja-learning-less-to-learn-better-dropout-in-deep-machine-learning-74334da4bfc5"
   ]
  },
  {
   "cell_type": "code",
   "execution_count": 55,
   "metadata": {},
   "outputs": [],
   "source": [
    "my_model = tf.keras.Model(inputs = input, outputs = output)"
   ]
  },
  {
   "cell_type": "code",
   "execution_count": 56,
   "metadata": {},
   "outputs": [
    {
     "name": "stdout",
     "output_type": "stream",
     "text": [
      "Model: \"model\"\n",
      "_________________________________________________________________\n",
      "Layer (type)                 Output Shape              Param #   \n",
      "=================================================================\n",
      "input_1 (InputLayer)         [(None, 50, 50, 3)]       0         \n",
      "_________________________________________________________________\n",
      "conv2d (Conv2D)              (None, 50, 50, 32)        896       \n",
      "_________________________________________________________________\n",
      "max_pooling2d (MaxPooling2D) (None, 25, 25, 32)        0         \n",
      "_________________________________________________________________\n",
      "conv2d_1 (Conv2D)            (None, 25, 25, 64)        18496     \n",
      "_________________________________________________________________\n",
      "max_pooling2d_1 (MaxPooling2 (None, 12, 12, 64)        0         \n",
      "_________________________________________________________________\n",
      "conv2d_2 (Conv2D)            (None, 12, 12, 128)       73856     \n",
      "_________________________________________________________________\n",
      "max_pooling2d_2 (MaxPooling2 (None, 6, 6, 128)         0         \n",
      "_________________________________________________________________\n",
      "flatten (Flatten)            (None, 4608)              0         \n",
      "_________________________________________________________________\n",
      "dense (Dense)                (None, 512)               2359808   \n",
      "_________________________________________________________________\n",
      "dropout (Dropout)            (None, 512)               0         \n",
      "_________________________________________________________________\n",
      "dense_1 (Dense)              (None, 512)               262656    \n",
      "_________________________________________________________________\n",
      "dropout_1 (Dropout)          (None, 512)               0         \n",
      "_________________________________________________________________\n",
      "dense_2 (Dense)              (None, 1)                 513       \n",
      "=================================================================\n",
      "Total params: 2,716,225\n",
      "Trainable params: 2,716,225\n",
      "Non-trainable params: 0\n",
      "_________________________________________________________________\n"
     ]
    }
   ],
   "source": [
    "my_model.compile(optimizer='adam', loss='binary_crossentropy', metrics=['accuracy'])\n",
    "my_model.summary()"
   ]
  },
  {
   "cell_type": "code",
   "execution_count": 40,
   "metadata": {},
   "outputs": [],
   "source": [
    "# import datetime\n",
    "logdir = os.path.join('../tensorboard_logs', datetime.datetime.now().strftime(\"%Y%m%d-%H%M%S\"))"
   ]
  },
  {
   "cell_type": "code",
   "execution_count": 60,
   "metadata": {},
   "outputs": [],
   "source": [
    "tensorboard_callback = tf.keras.callbacks.TensorBoard(logdir, histogram_freq=1)\n",
    "reduce_lr = tf.keras.callbacks.ReduceLROnPlateau(monitor='val_loss', factor=0.5, patience=2, min_lr=0.000001)\n",
    "\n",
    "callbacks = [reduce_lr, tensorboard_callback]"
   ]
  },
  {
   "cell_type": "code",
   "execution_count": 61,
   "metadata": {},
   "outputs": [],
   "source": [
    "# Definitions for later \n",
    "Batch_Size = 64\n",
    "# Number of samples per gradient update\n",
    "number_classes = 2 \n",
    "# total number of classes\n",
    "Epics = 25\n",
    "# \"EPOCHS\" spelled wrong; an arbitrary cutoff, generally defined as “one pass over the entire dataset”, \n",
    "# used to separate training into distinct phases\n",
    "Validation = (scaled_valid_images, enc_valid_labels)"
   ]
  },
  {
   "cell_type": "code",
   "execution_count": 62,
   "metadata": {},
   "outputs": [
    {
     "name": "stdout",
     "output_type": "stream",
     "text": [
      "Train on 17361 samples, validate on 1929 samples\n",
      "Epoch 1/25\n",
      "17361/17361 [==============================] - 31s 2ms/sample - loss: 0.5050 - accuracy: 0.7211 - val_loss: 0.1984 - val_accuracy: 0.9404\n",
      "Epoch 2/25\n",
      "17361/17361 [==============================] - 28s 2ms/sample - loss: 0.1836 - accuracy: 0.9347 - val_loss: 0.1523 - val_accuracy: 0.9518\n",
      "Epoch 3/25\n",
      "17361/17361 [==============================] - 29s 2ms/sample - loss: 0.1557 - accuracy: 0.9445 - val_loss: 0.1490 - val_accuracy: 0.9518\n",
      "Epoch 4/25\n",
      "17361/17361 [==============================] - 30s 2ms/sample - loss: 0.1454 - accuracy: 0.9472 - val_loss: 0.1494 - val_accuracy: 0.9492\n",
      "Epoch 5/25\n",
      "17361/17361 [==============================] - 29s 2ms/sample - loss: 0.1329 - accuracy: 0.9526 - val_loss: 0.1375 - val_accuracy: 0.9539\n",
      "Epoch 6/25\n",
      "17361/17361 [==============================] - 29s 2ms/sample - loss: 0.1251 - accuracy: 0.9546 - val_loss: 0.1401 - val_accuracy: 0.9549\n",
      "Epoch 7/25\n",
      "17361/17361 [==============================] - 30s 2ms/sample - loss: 0.1180 - accuracy: 0.9592 - val_loss: 0.1443 - val_accuracy: 0.9518\n",
      "Epoch 8/25\n",
      "17361/17361 [==============================] - 29s 2ms/sample - loss: 0.0929 - accuracy: 0.9675 - val_loss: 0.1517 - val_accuracy: 0.9471\n",
      "Epoch 9/25\n",
      "17361/17361 [==============================] - 29s 2ms/sample - loss: 0.0788 - accuracy: 0.9734 - val_loss: 0.1686 - val_accuracy: 0.9533\n",
      "Epoch 10/25\n",
      "17361/17361 [==============================] - 28s 2ms/sample - loss: 0.0598 - accuracy: 0.9803 - val_loss: 0.1622 - val_accuracy: 0.9482\n",
      "Epoch 11/25\n",
      "17361/17361 [==============================] - 27s 2ms/sample - loss: 0.0511 - accuracy: 0.9831 - val_loss: 0.1689 - val_accuracy: 0.9487\n",
      "Epoch 12/25\n",
      "17361/17361 [==============================] - 27s 2ms/sample - loss: 0.0404 - accuracy: 0.9876 - val_loss: 0.1783 - val_accuracy: 0.9508\n",
      "Epoch 13/25\n",
      "17361/17361 [==============================] - 28s 2ms/sample - loss: 0.0347 - accuracy: 0.9889 - val_loss: 0.1838 - val_accuracy: 0.9508\n",
      "Epoch 14/25\n",
      "17361/17361 [==============================] - 28s 2ms/sample - loss: 0.0300 - accuracy: 0.9905 - val_loss: 0.1956 - val_accuracy: 0.9523\n",
      "Epoch 15/25\n",
      "17361/17361 [==============================] - 28s 2ms/sample - loss: 0.0261 - accuracy: 0.9925 - val_loss: 0.2120 - val_accuracy: 0.9518\n",
      "Epoch 16/25\n",
      "17361/17361 [==============================] - 28s 2ms/sample - loss: 0.0255 - accuracy: 0.9925 - val_loss: 0.2087 - val_accuracy: 0.9523\n",
      "Epoch 17/25\n",
      "17361/17361 [==============================] - 28s 2ms/sample - loss: 0.0234 - accuracy: 0.9929 - val_loss: 0.2176 - val_accuracy: 0.9508\n",
      "Epoch 18/25\n",
      "17361/17361 [==============================] - 30s 2ms/sample - loss: 0.0215 - accuracy: 0.9937 - val_loss: 0.2130 - val_accuracy: 0.9497\n",
      "Epoch 19/25\n",
      "17361/17361 [==============================] - 31s 2ms/sample - loss: 0.0216 - accuracy: 0.9935 - val_loss: 0.2186 - val_accuracy: 0.9497\n",
      "Epoch 20/25\n",
      "17361/17361 [==============================] - 27s 2ms/sample - loss: 0.0199 - accuracy: 0.9937 - val_loss: 0.2181 - val_accuracy: 0.9518\n",
      "Epoch 21/25\n",
      "17361/17361 [==============================] - 27s 2ms/sample - loss: 0.0201 - accuracy: 0.9935 - val_loss: 0.2186 - val_accuracy: 0.9513\n",
      "Epoch 22/25\n",
      "17361/17361 [==============================] - 27s 2ms/sample - loss: 0.0200 - accuracy: 0.9942 - val_loss: 0.2195 - val_accuracy: 0.9502\n",
      "Epoch 23/25\n",
      "17361/17361 [==============================] - 28s 2ms/sample - loss: 0.0193 - accuracy: 0.9942 - val_loss: 0.2205 - val_accuracy: 0.9513\n",
      "Epoch 24/25\n",
      "17361/17361 [==============================] - 29s 2ms/sample - loss: 0.0200 - accuracy: 0.9945 - val_loss: 0.2210 - val_accuracy: 0.9508\n",
      "Epoch 25/25\n",
      "17361/17361 [==============================] - 28s 2ms/sample - loss: 0.0186 - accuracy: 0.9952 - val_loss: 0.2214 - val_accuracy: 0.9508\n"
     ]
    }
   ],
   "source": [
    "history = my_model.fit(x=scaled_train_images, \n",
    "                    y=enc_train_labels, \n",
    "                    batch_size=Batch_Size, \n",
    "                    epochs=Epics, \n",
    "                    validation_data=Validation,\n",
    "                    callbacks=callbacks, \n",
    "                    verbose=1)"
   ]
  },
  {
   "cell_type": "code",
   "execution_count": 63,
   "metadata": {},
   "outputs": [],
   "source": [
    "# definitions for the graphs below \n",
    "\n",
    "max_epoch = len(history.history['accuracy'])+1\n",
    "epoch_list = list(range(1,max_epoch))"
   ]
  },
  {
   "cell_type": "code",
   "execution_count": 64,
   "metadata": {},
   "outputs": [
    {
     "data": {
      "image/png": "[encoded data removed]",
      "text/plain": [
       "<Figure size 864x432 with 2 Axes>"
      ]
     },
     "metadata": {
      "needs_background": "light"
     },
     "output_type": "display_data"
    }
   ],
   "source": [
    "f, (ax1, ax2) = plt.subplots(1, 2, figsize=(12, 6))\n",
    "t = f.suptitle('Performance of CNN from Scratch', fontsize=25)\n",
    "f.subplots_adjust(top=0.75, wspace=0.3)\n",
    "\n",
    "# figure 1\n",
    "ax1.plot(epoch_list, history.history['accuracy'], label='Training Accuracy')\n",
    "ax1.plot(epoch_list, history.history['loss'], label='Training Loss')\n",
    "\n",
    "ax1.set_xticks(np.arange(1, max_epoch, 5))\n",
    "ax1.set_yticks(np.arange(0, 1.1, step=0.1))\n",
    "ax1.set_xlabel('Epoch')\n",
    "ax1.set_title('Training Set')\n",
    "\n",
    "l1 = ax1.legend(loc=\"best\")\n",
    "\n",
    "# figure 2\n",
    "ax2.plot(epoch_list, history.history['val_accuracy'], label='Validation Accuracy')\n",
    "ax2.plot(epoch_list, history.history['val_loss'], label='Validation Loss')\n",
    "\n",
    "ax2.set_xticks(np.arange(1, max_epoch, 5))\n",
    "ax2.set_yticks(np.arange(0, 1.1, step=0.1))\n",
    "ax2.set_xlabel('Epoch')\n",
    "ax2.set_title('Validation Set')\n",
    "\n",
    "l2 = ax2.legend(loc=\"best\")"
   ]
  },
  {
   "cell_type": "markdown",
   "metadata": {},
   "source": [
    "# VGG-19\n"
   ]
  },
  {
   "cell_type": "code",
   "execution_count": 66,
   "metadata": {},
   "outputs": [],
   "source": [
    "type(my_model)\n",
    "my_model.save(\"my_cnn.h5\")"
   ]
  },
  {
   "cell_type": "code",
   "execution_count": 67,
   "metadata": {},
   "outputs": [],
   "source": [
    "\n",
    "from tensorflow.keras.layers import Input, Embedding, Activation, Flatten, Dense\n",
    "from tensorflow.keras.layers import Conv1D, MaxPooling1D, Dropout\n",
    "from tensorflow.keras.models import Model"
   ]
  },
  {
   "cell_type": "code",
   "execution_count": 68,
   "metadata": {},
   "outputs": [],
   "source": [
    "test = tf.keras.models.load_model('my_cnn.h5')"
   ]
  },
  {
   "cell_type": "code",
   "execution_count": 69,
   "metadata": {},
   "outputs": [
    {
     "name": "stdout",
     "output_type": "stream",
     "text": [
      "Model: \"model\"\n",
      "_________________________________________________________________\n",
      "Layer (type)                 Output Shape              Param #   \n",
      "=================================================================\n",
      "input_1 (InputLayer)         [(None, 50, 50, 3)]       0         \n",
      "_________________________________________________________________\n",
      "conv2d (Conv2D)              (None, 50, 50, 32)        896       \n",
      "_________________________________________________________________\n",
      "max_pooling2d (MaxPooling2D) (None, 25, 25, 32)        0         \n",
      "_________________________________________________________________\n",
      "conv2d_1 (Conv2D)            (None, 25, 25, 64)        18496     \n",
      "_________________________________________________________________\n",
      "max_pooling2d_1 (MaxPooling2 (None, 12, 12, 64)        0         \n",
      "_________________________________________________________________\n",
      "conv2d_2 (Conv2D)            (None, 12, 12, 128)       73856     \n",
      "_________________________________________________________________\n",
      "max_pooling2d_2 (MaxPooling2 (None, 6, 6, 128)         0         \n",
      "_________________________________________________________________\n",
      "flatten (Flatten)            (None, 4608)              0         \n",
      "_________________________________________________________________\n",
      "dense (Dense)                (None, 512)               2359808   \n",
      "_________________________________________________________________\n",
      "dropout (Dropout)            (None, 512)               0         \n",
      "_________________________________________________________________\n",
      "dense_1 (Dense)              (None, 512)               262656    \n",
      "_________________________________________________________________\n",
      "dropout_1 (Dropout)          (None, 512)               0         \n",
      "_________________________________________________________________\n",
      "dense_2 (Dense)              (None, 1)                 513       \n",
      "=================================================================\n",
      "Total params: 2,716,225\n",
      "Trainable params: 2,716,225\n",
      "Non-trainable params: 0\n",
      "_________________________________________________________________\n"
     ]
    }
   ],
   "source": [
    "test.summary()"
   ]
  },
  {
   "cell_type": "code",
   "execution_count": 37,
   "metadata": {},
   "outputs": [
    {
     "name": "stdout",
     "output_type": "stream",
     "text": [
      "Model: \"model\"\n",
      "_________________________________________________________________\n",
      "Layer (type)                 Output Shape              Param #   \n",
      "=================================================================\n",
      "input_3 (InputLayer)         [(None, 50, 50, 3)]       0         \n",
      "_________________________________________________________________\n",
      "block1_conv1 (Conv2D)        (None, 50, 50, 64)        1792      \n",
      "_________________________________________________________________\n",
      "block1_conv2 (Conv2D)        (None, 50, 50, 64)        36928     \n",
      "_________________________________________________________________\n",
      "block1_pool (MaxPooling2D)   (None, 25, 25, 64)        0         \n",
      "_________________________________________________________________\n",
      "block2_conv1 (Conv2D)        (None, 25, 25, 128)       73856     \n",
      "_________________________________________________________________\n",
      "block2_conv2 (Conv2D)        (None, 25, 25, 128)       147584    \n",
      "_________________________________________________________________\n",
      "block2_pool (MaxPooling2D)   (None, 12, 12, 128)       0         \n",
      "_________________________________________________________________\n",
      "block3_conv1 (Conv2D)        (None, 12, 12, 256)       295168    \n",
      "_________________________________________________________________\n",
      "block3_conv2 (Conv2D)        (None, 12, 12, 256)       590080    \n",
      "_________________________________________________________________\n",
      "block3_conv3 (Conv2D)        (None, 12, 12, 256)       590080    \n",
      "_________________________________________________________________\n",
      "block3_conv4 (Conv2D)        (None, 12, 12, 256)       590080    \n",
      "_________________________________________________________________\n",
      "block3_pool (MaxPooling2D)   (None, 6, 6, 256)         0         \n",
      "_________________________________________________________________\n",
      "block4_conv1 (Conv2D)        (None, 6, 6, 512)         1180160   \n",
      "_________________________________________________________________\n",
      "block4_conv2 (Conv2D)        (None, 6, 6, 512)         2359808   \n",
      "_________________________________________________________________\n",
      "block4_conv3 (Conv2D)        (None, 6, 6, 512)         2359808   \n",
      "_________________________________________________________________\n",
      "block4_conv4 (Conv2D)        (None, 6, 6, 512)         2359808   \n",
      "_________________________________________________________________\n",
      "block4_pool (MaxPooling2D)   (None, 3, 3, 512)         0         \n",
      "_________________________________________________________________\n",
      "block5_conv1 (Conv2D)        (None, 3, 3, 512)         2359808   \n",
      "_________________________________________________________________\n",
      "block5_conv2 (Conv2D)        (None, 3, 3, 512)         2359808   \n",
      "_________________________________________________________________\n",
      "block5_conv3 (Conv2D)        (None, 3, 3, 512)         2359808   \n",
      "_________________________________________________________________\n",
      "block5_conv4 (Conv2D)        (None, 3, 3, 512)         2359808   \n",
      "_________________________________________________________________\n",
      "block5_pool (MaxPooling2D)   (None, 1, 1, 512)         0         \n",
      "_________________________________________________________________\n",
      "flatten (Flatten)            (None, 512)               0         \n",
      "_________________________________________________________________\n",
      "dense (Dense)                (None, 512)               262656    \n",
      "_________________________________________________________________\n",
      "dropout (Dropout)            (None, 512)               0         \n",
      "_________________________________________________________________\n",
      "dense_1 (Dense)              (None, 512)               262656    \n",
      "_________________________________________________________________\n",
      "dropout_1 (Dropout)          (None, 512)               0         \n",
      "_________________________________________________________________\n",
      "dense_2 (Dense)              (None, 1)                 513       \n",
      "=================================================================\n",
      "Total params: 20,550,209\n",
      "Trainable params: 525,825\n",
      "Non-trainable params: 20,024,384\n",
      "_________________________________________________________________\n"
     ]
    }
   ],
   "source": [
    "vgg = tf.keras.applications.vgg19.VGG19(include_top=False, weights='imagenet', \n",
    "                                        input_shape=input_shape)\n",
    "vgg.trainable = False\n",
    "# Freeze the layers\n",
    "for layer in vgg.layers:\n",
    "    layer.trainable = False\n",
    "    \n",
    "base_vgg = vgg\n",
    "base_out = base_vgg.output\n",
    "pool_out = tf.keras.layers.Flatten()(base_out)\n",
    "hidden1 = tf.keras.layers.Dense(512, activation='relu')(pool_out)\n",
    "drop1 = tf.keras.layers.Dropout(rate=0.3)(hidden1)\n",
    "hidden2 = tf.keras.layers.Dense(512, activation='relu')(drop1)\n",
    "drop2 = tf.keras.layers.Dropout(rate=0.3)(hidden2)\n",
    "\n",
    "out = tf.keras.layers.Dense(1, activation='sigmoid')(drop2)\n",
    "\n",
    "model = tf.keras.Model(inputs=base_vgg.input, outputs=out)\n",
    "model.compile(optimizer=tf.keras.optimizers.RMSprop(lr=1e-4),\n",
    "                loss='binary_crossentropy',\n",
    "                metrics=['accuracy'])\n",
    "model.summary()"
   ]
  },
  {
   "cell_type": "code",
   "execution_count": 38,
   "metadata": {},
   "outputs": [
    {
     "name": "stdout",
     "output_type": "stream",
     "text": [
      "Total Layers: 28\n",
      "Total trainable layers: 6\n"
     ]
    }
   ],
   "source": [
    "print(\"Total Layers:\", len(model.layers))\n",
    "print(\"Total trainable layers:\", \n",
    "      sum([1 for l in model.layers if l.trainable]))\n"
   ]
  },
  {
   "cell_type": "code",
   "execution_count": 44,
   "metadata": {},
   "outputs": [
    {
     "name": "stdout",
     "output_type": "stream",
     "text": [
      "Train on 17361 samples, validate on 1929 samples\n",
      "Epoch 1/25\n",
      "17361/17361 [==============================] - 137s 8ms/sample - loss: 0.4770 - accuracy: 0.7716 - val_loss: 0.3542 - val_accuracy: 0.8414\n",
      "Epoch 2/25\n",
      "17361/17361 [==============================] - 140s 8ms/sample - loss: 0.3738 - accuracy: 0.8332 - val_loss: 0.3261 - val_accuracy: 0.8471\n",
      "Epoch 3/25\n",
      "17361/17361 [==============================] - 136s 8ms/sample - loss: 0.3500 - accuracy: 0.8419 - val_loss: 0.3280 - val_accuracy: 0.8517\n",
      "Epoch 4/25\n",
      "17361/17361 [==============================] - 136s 8ms/sample - loss: 0.3329 - accuracy: 0.8515 - val_loss: 0.2988 - val_accuracy: 0.8678\n",
      "Epoch 5/25\n",
      "17361/17361 [==============================] - 135s 8ms/sample - loss: 0.3210 - accuracy: 0.8580 - val_loss: 0.3032 - val_accuracy: 0.8647\n",
      "Epoch 6/25\n",
      "17361/17361 [==============================] - 136s 8ms/sample - loss: 0.3111 - accuracy: 0.8627 - val_loss: 0.2861 - val_accuracy: 0.8777\n",
      "Epoch 7/25\n",
      "17361/17361 [==============================] - 135s 8ms/sample - loss: 0.3018 - accuracy: 0.8663 - val_loss: 0.2859 - val_accuracy: 0.8745\n",
      "Epoch 8/25\n",
      "17361/17361 [==============================] - 135s 8ms/sample - loss: 0.2988 - accuracy: 0.8669 - val_loss: 0.2925 - val_accuracy: 0.8714\n",
      "Epoch 9/25\n",
      "17361/17361 [==============================] - 139s 8ms/sample - loss: 0.2896 - accuracy: 0.8732 - val_loss: 0.2848 - val_accuracy: 0.8740\n",
      "Epoch 10/25\n",
      "17361/17361 [==============================] - 140s 8ms/sample - loss: 0.2826 - accuracy: 0.8758 - val_loss: 0.2924 - val_accuracy: 0.8652\n",
      "Epoch 11/25\n",
      "17361/17361 [==============================] - 136s 8ms/sample - loss: 0.2761 - accuracy: 0.8794 - val_loss: 0.2727 - val_accuracy: 0.8860\n",
      "Epoch 12/25\n",
      "17361/17361 [==============================] - 136s 8ms/sample - loss: 0.2734 - accuracy: 0.8819 - val_loss: 0.2928 - val_accuracy: 0.8730\n",
      "Epoch 13/25\n",
      "17361/17361 [==============================] - 136s 8ms/sample - loss: 0.2671 - accuracy: 0.8852 - val_loss: 0.2712 - val_accuracy: 0.8828\n",
      "Epoch 14/25\n",
      "17361/17361 [==============================] - 139s 8ms/sample - loss: 0.2675 - accuracy: 0.8849 - val_loss: 0.2689 - val_accuracy: 0.8823\n",
      "Epoch 15/25\n",
      "17361/17361 [==============================] - 140s 8ms/sample - loss: 0.2637 - accuracy: 0.8855 - val_loss: 0.3311 - val_accuracy: 0.8585\n",
      "Epoch 16/25\n",
      "17361/17361 [==============================] - 136s 8ms/sample - loss: 0.2588 - accuracy: 0.8893 - val_loss: 0.2760 - val_accuracy: 0.8771\n",
      "Epoch 17/25\n",
      "17361/17361 [==============================] - 137s 8ms/sample - loss: 0.2504 - accuracy: 0.8955 - val_loss: 0.2622 - val_accuracy: 0.8854\n",
      "Epoch 18/25\n",
      "17361/17361 [==============================] - 139s 8ms/sample - loss: 0.2488 - accuracy: 0.8933 - val_loss: 0.2634 - val_accuracy: 0.8792\n",
      "Epoch 19/25\n",
      "17361/17361 [==============================] - 137s 8ms/sample - loss: 0.2469 - accuracy: 0.8945 - val_loss: 0.2562 - val_accuracy: 0.8979\n",
      "Epoch 20/25\n",
      "17361/17361 [==============================] - 137s 8ms/sample - loss: 0.2438 - accuracy: 0.8976 - val_loss: 0.2634 - val_accuracy: 0.8860\n",
      "Epoch 21/25\n",
      "17361/17361 [==============================] - 137s 8ms/sample - loss: 0.2439 - accuracy: 0.8967 - val_loss: 0.2538 - val_accuracy: 0.8974\n",
      "Epoch 22/25\n",
      "17361/17361 [==============================] - 142s 8ms/sample - loss: 0.2435 - accuracy: 0.8977 - val_loss: 0.2566 - val_accuracy: 0.8937\n",
      "Epoch 23/25\n",
      "17361/17361 [==============================] - 136s 8ms/sample - loss: 0.2402 - accuracy: 0.9006 - val_loss: 0.2597 - val_accuracy: 0.8927\n",
      "Epoch 24/25\n",
      "17361/17361 [==============================] - 139s 8ms/sample - loss: 0.2350 - accuracy: 0.9032 - val_loss: 0.2555 - val_accuracy: 0.8932\n",
      "Epoch 25/25\n",
      "17361/17361 [==============================] - 142s 8ms/sample - loss: 0.2349 - accuracy: 0.9021 - val_loss: 0.2542 - val_accuracy: 0.8963\n"
     ]
    }
   ],
   "source": [
    "tensorboard_callback = tf.keras.callbacks.TensorBoard(logdir, histogram_freq=1)\n",
    "reduce_lr = tf.keras.callbacks.ReduceLROnPlateau(monitor='val_loss', factor=0.5,\n",
    "                              patience=2, min_lr=0.000001)\n",
    "\n",
    "#early_stop = tf.keras.callbacks.EarlyStopping(monitor='val_loss', min_delta=0, patience=15, \n",
    "#                                              mode='auto', baseline=None, restore_best_weights=False)\n",
    "callbacks = [reduce_lr, tensorboard_callback]\n",
    "\n",
    "history = model.fit(x=scaled_train_images, y=enc_train_labels, \n",
    "                    batch_size=Batch_Size,\n",
    "                    epochs=Epics, \n",
    "                    validation_data=(scaled_valid_images, enc_valid_labels), \n",
    "                    callbacks=callbacks,\n",
    "                    verbose=1)"
   ]
  },
  {
   "cell_type": "code",
   "execution_count": 46,
   "metadata": {},
   "outputs": [
    {
     "data": {
      "image/png": "[encoded data removed]",
      "text/plain": [
       "<Figure size 864x432 with 2 Axes>"
      ]
     },
     "metadata": {
      "needs_background": "light"
     },
     "output_type": "display_data"
    }
   ],
   "source": [
    "max_epoch = len(history.history['accuracy'])+1\n",
    "epoch_list = list(range(1,max_epoch))\n",
    "\n",
    "f, (ax1, ax2) = plt.subplots(1, 2, figsize=(12, 6))\n",
    "t = f.suptitle('Performance of VGG', fontsize=25)\n",
    "f.subplots_adjust(top=0.75, wspace=0.3)\n",
    "\n",
    "# figure 1\n",
    "ax1.plot(epoch_list, history.history['accuracy'], label='Training Accuracy')\n",
    "ax1.plot(epoch_list, history.history['loss'], label='Training Loss')\n",
    "\n",
    "ax1.set_xticks(np.arange(1, max_epoch, 5))\n",
    "ax1.set_yticks(np.arange(0, 1.1, step=0.1))\n",
    "ax1.set_xlabel('Epoch')\n",
    "ax1.set_title('Training Set')\n",
    "\n",
    "l1 = ax1.legend(loc=\"best\")\n",
    "\n",
    "# figure 2\n",
    "ax2.plot(epoch_list, history.history['val_accuracy'], label='Validation Accuracy')\n",
    "ax2.plot(epoch_list, history.history['val_loss'], label='Validation Loss')\n",
    "\n",
    "ax2.set_xticks(np.arange(1, max_epoch, 5))\n",
    "ax2.set_yticks(np.arange(0, 1.1, step=0.1))\n",
    "ax2.set_xlabel('Epoch')\n",
    "ax2.set_title('Validation Set')\n",
    "\n",
    "l2 = ax2.legend(loc=\"best\")"
   ]
  },
  {
   "cell_type": "code",
   "execution_count": 42,
   "metadata": {},
   "outputs": [],
   "source": [
    "# Definitions for later \n",
    "Batch_Size = 64\n",
    "# Number of samples per gradient update\n",
    "number_classes = 2 \n",
    "# total number of classes\n",
    "Epics = 25\n",
    "# \"EPOCHS\" spelled wrong; an arbitrary cutoff, generally defined as “one pass over the entire dataset”, \n",
    "# used to separate training into distinct phases\n",
    "Validation = (scaled_valid_images, enc_valid_labels)"
   ]
  },
  {
   "cell_type": "markdown",
   "metadata": {},
   "source": [
    "# And Another One *DJ Khalid Voice* (Just kidding it's just VGG19)"
   ]
  },
  {
   "cell_type": "markdown",
   "metadata": {},
   "source": [
    "we will fine-tune the weights of the layers in the last two blocks of our pre-trained VGG-19 model. We will also introduce the concept of image augmentation. The idea behind image augmentation is exactly as the name sounds. We load in existing images from our training dataset and apply some image transformation operations to them, such as rotation, shearing, translation, zooming, and so on, to produce new, altered versions of existing images. Due to these random transformations, we don't get the same images each time. We will leverage an excellent utility called ImageDataGenerator in tf.keras that can help build image augmentors.\n",
    "\n",
    "https://nbviewer.jupyter.org/github/dipanjanS/data_science_for_all/tree/master/os_malaria_detection/"
   ]
  },
  {
   "cell_type": "code",
   "execution_count": 94,
   "metadata": {},
   "outputs": [],
   "source": [
    "train_datagen = tf.keras.preprocessing.image.ImageDataGenerator(rescale=1./255,\n",
    "                                                                zoom_range=0.05, \n",
    "                                                                rotation_range=25,\n",
    "                                                                width_shift_range=0.05, \n",
    "                                                                height_shift_range=0.05, \n",
    "                                                                shear_range=0.05, horizontal_flip=True, \n",
    "                                                                fill_mode='nearest')\n",
    "\n",
    "val_datagen = tf.keras.preprocessing.image.ImageDataGenerator(rescale=1./255)"
   ]
  },
  {
   "cell_type": "code",
   "execution_count": 95,
   "metadata": {},
   "outputs": [
    {
     "name": "stdout",
     "output_type": "stream",
     "text": [
      "Labels: ['Uninfected', 'Uninfected', 'Uninfected', 'Uninfected', 'Uninfected', 'Uninfected']\n"
     ]
    },
    {
     "data": {
      "image/png": "[encoded data removed]",
      "text/plain": [
       "<Figure size 1152x576 with 6 Axes>"
      ]
     },
     "metadata": {
      "needs_background": "light"
     },
     "output_type": "display_data"
    }
   ],
   "source": [
    "img_id = 0\n",
    "sample_generator = train_datagen.flow(train_data[img_id:img_id+1], train_labels[img_id:img_id+1],\n",
    "                                      batch_size=1)\n",
    "sample = [next(sample_generator) for i in range(0,6)]\n",
    "fig, ax = plt.subplots(1,6, figsize=(16, 8))\n",
    "print('Labels:', [item[1][0] for item in sample])\n",
    "l = [ax[i].imshow(sample[i][0][0]) for i in range(0,6)]"
   ]
  },
  {
   "cell_type": "code",
   "execution_count": 96,
   "metadata": {},
   "outputs": [],
   "source": [
    "Batch_Size = 64\n",
    "number_classes = 2 \n",
    "New_Epics = 5\n",
    "Validation = (scaled_valid_images, enc_valid_labels)\n",
    "input_shape = (50, 50, 3)\n",
    "input = tf.keras.layers.Input(shape= input_shape)"
   ]
  },
  {
   "cell_type": "code",
   "execution_count": 97,
   "metadata": {},
   "outputs": [],
   "source": [
    "train_generator = train_datagen.flow(train_data, enc_train_labels, batch_size=Batch_Size, shuffle=True)\n",
    "val_generator = val_datagen.flow(valid_data, enc_valid_labels, batch_size=Batch_Size, shuffle=False)"
   ]
  },
  {
   "cell_type": "code",
   "execution_count": 98,
   "metadata": {},
   "outputs": [
    {
     "name": "stdout",
     "output_type": "stream",
     "text": [
      "Total Layers: 28\n",
      "Total trainable layers: 16\n"
     ]
    }
   ],
   "source": [
    "vgg = tf.keras.applications.vgg19.VGG19(include_top=False, weights='imagenet', \n",
    "                                        input_shape=input_shape)\n",
    "# Freeze the layers\n",
    "vgg.trainable = True\n",
    "\n",
    "set_trainable = False\n",
    "for layer in vgg.layers:\n",
    "    if layer.name in ['block5_conv1', 'block4_conv1']:\n",
    "        set_trainable = True\n",
    "    if set_trainable:\n",
    "        layer.trainable = True\n",
    "    else:\n",
    "        layer.trainable = False\n",
    "    \n",
    "base_vgg = vgg\n",
    "base_out = base_vgg.output\n",
    "pool_out = tf.keras.layers.Flatten()(base_out)\n",
    "hidden1 = tf.keras.layers.Dense(512, activation='relu')(pool_out)\n",
    "drop1 = tf.keras.layers.Dropout(rate=0.5)(hidden1)\n",
    "hidden2 = tf.keras.layers.Dense(512, activation='relu')(drop1)\n",
    "drop2 = tf.keras.layers.Dropout(rate=0.5)(hidden2)\n",
    "\n",
    "out = tf.keras.layers.Dense(1, activation='sigmoid')(drop2)\n",
    "\n",
    "model = tf.keras.Model(inputs=base_vgg.input, outputs=out)\n",
    "model.compile(optimizer=tf.keras.optimizers.RMSprop(lr=1e-5),\n",
    "                loss='binary_crossentropy',\n",
    "                metrics=['accuracy'])\n",
    "\n",
    "print(\"Total Layers:\", len(model.layers))\n",
    "print(\"Total trainable layers:\", sum([1 for l in model.layers if l.trainable]))"
   ]
  },
  {
   "cell_type": "code",
   "execution_count": 99,
   "metadata": {},
   "outputs": [],
   "source": [
    "tensorboard_callback = tf.keras.callbacks.TensorBoard(logdir, histogram_freq=1)\n",
    "reduce_lr = tf.keras.callbacks.ReduceLROnPlateau(monitor='val_loss', factor=0.5, patience=2, min_lr=0.000001)\n",
    "\n",
    "callbacks = [reduce_lr, tensorboard_callback]\n",
    "\n",
    "train_steps_per_epoch = train_generator.n // train_generator.batch_size\n",
    "\n",
    "val_steps_per_epoch = val_generator.n // val_generator.batch_size"
   ]
  },
  {
   "cell_type": "code",
   "execution_count": 101,
   "metadata": {},
   "outputs": [
    {
     "name": "stdout",
     "output_type": "stream",
     "text": [
      "WARNING:tensorflow:From <ipython-input-101-409f568f20a2>:5: Model.fit_generator (from tensorflow.python.keras.engine.training) is deprecated and will be removed in a future version.\n",
      "Instructions for updating:\n",
      "Please use Model.fit, which supports generators.\n",
      "WARNING:tensorflow:sample_weight modes were coerced from\n",
      "  ...\n",
      "    to  \n",
      "  ['...']\n",
      "WARNING:tensorflow:sample_weight modes were coerced from\n",
      "  ...\n",
      "    to  \n",
      "  ['...']\n",
      "Train for 271 steps, validate for 30 steps\n",
      "Epoch 1/5\n",
      "271/271 [==============================] - 378s 1s/step - loss: 0.3960 - accuracy: 0.8152 - val_loss: 0.2922 - val_accuracy: 0.8786\n",
      "Epoch 2/5\n",
      "271/271 [==============================] - 383s 1s/step - loss: 0.2582 - accuracy: 0.8933 - val_loss: 0.2025 - val_accuracy: 0.9198\n",
      "Epoch 3/5\n",
      "271/271 [==============================] - 379s 1s/step - loss: 0.2185 - accuracy: 0.9107 - val_loss: 0.1545 - val_accuracy: 0.9401\n",
      "Epoch 4/5\n",
      "271/271 [==============================] - 372s 1s/step - loss: 0.1958 - accuracy: 0.9222 - val_loss: 0.1856 - val_accuracy: 0.9260\n",
      "Epoch 5/5\n",
      "271/271 [==============================] - 383s 1s/step - loss: 0.1873 - accuracy: 0.9278 - val_loss: 0.1463 - val_accuracy: 0.9448\n"
     ]
    }
   ],
   "source": [
    "history = model.fit_generator(train_generator, steps_per_epoch=train_steps_per_epoch, \n",
    "                              epochs=New_Epics,\n",
    "                              validation_data=val_generator, \n",
    "                              validation_steps=val_steps_per_epoch, \n",
    "                              verbose=1)\n"
   ]
  },
  {
   "cell_type": "code",
   "execution_count": 104,
   "metadata": {},
   "outputs": [],
   "source": [
    "# definitions for the graphs below \n",
    "max_epoch = len(history.history['accuracy'])+1\n",
    "epoch_list = list(range(1,max_epoch))"
   ]
  },
  {
   "cell_type": "code",
   "execution_count": 105,
   "metadata": {},
   "outputs": [
    {
     "data": {
      "image/png": "[encoded data removed]",
      "text/plain": [
       "<Figure size 864x432 with 2 Axes>"
      ]
     },
     "metadata": {
      "needs_background": "light"
     },
     "output_type": "display_data"
    }
   ],
   "source": [
    "f, (ax1, ax2) = plt.subplots(1, 2, figsize=(12, 6))\n",
    "t = f.suptitle('Performance of VGG19 as a Feature Detector', fontsize=25)\n",
    "f.subplots_adjust(top=0.75, wspace=0.3)\n",
    "\n",
    "# figure 1\n",
    "ax1.plot(epoch_list, history.history['accuracy'], label='Training Accuracy')\n",
    "ax1.plot(epoch_list, history.history['loss'], label='Training Loss')\n",
    "\n",
    "ax1.set_xticks(np.arange(1, max_epoch, 5))\n",
    "ax1.set_yticks(np.arange(0, 1.1, step=0.1))\n",
    "ax1.set_xlabel('Epoch')\n",
    "ax1.set_title('Training Set')\n",
    "\n",
    "l1 = ax1.legend(loc=\"best\")\n",
    "\n",
    "# figure 2\n",
    "ax2.plot(epoch_list, history.history['val_accuracy'], label='Validation Accuracy')\n",
    "ax2.plot(epoch_list, history.history['val_loss'], label='Validation Loss')\n",
    "\n",
    "ax2.set_xticks(np.arange(1, max_epoch, 5))\n",
    "ax2.set_yticks(np.arange(0, 1.1, step=0.1))\n",
    "ax2.set_xlabel('Epoch')\n",
    "ax2.set_title('Validation Set')\n",
    "\n",
    "l2 = ax2.legend(loc=\"best\")"
   ]
  },
  {
   "cell_type": "code",
   "execution_count": 106,
   "metadata": {},
   "outputs": [],
   "source": [
    "model.save(\"my_vgg.h5\")"
   ]
  },
  {
   "cell_type": "code",
   "execution_count": 107,
   "metadata": {},
   "outputs": [],
   "source": [
    "test_2 = tf.keras.models.load_model('my_vgg.h5')"
   ]
  },
  {
   "cell_type": "code",
   "execution_count": 108,
   "metadata": {},
   "outputs": [
    {
     "name": "stdout",
     "output_type": "stream",
     "text": [
      "Model: \"model_2\"\n",
      "_________________________________________________________________\n",
      "Layer (type)                 Output Shape              Param #   \n",
      "=================================================================\n",
      "input_6 (InputLayer)         [(None, 50, 50, 3)]       0         \n",
      "_________________________________________________________________\n",
      "block1_conv1 (Conv2D)        (None, 50, 50, 64)        1792      \n",
      "_________________________________________________________________\n",
      "block1_conv2 (Conv2D)        (None, 50, 50, 64)        36928     \n",
      "_________________________________________________________________\n",
      "block1_pool (MaxPooling2D)   (None, 25, 25, 64)        0         \n",
      "_________________________________________________________________\n",
      "block2_conv1 (Conv2D)        (None, 25, 25, 128)       73856     \n",
      "_________________________________________________________________\n",
      "block2_conv2 (Conv2D)        (None, 25, 25, 128)       147584    \n",
      "_________________________________________________________________\n",
      "block2_pool (MaxPooling2D)   (None, 12, 12, 128)       0         \n",
      "_________________________________________________________________\n",
      "block3_conv1 (Conv2D)        (None, 12, 12, 256)       295168    \n",
      "_________________________________________________________________\n",
      "block3_conv2 (Conv2D)        (None, 12, 12, 256)       590080    \n",
      "_________________________________________________________________\n",
      "block3_conv3 (Conv2D)        (None, 12, 12, 256)       590080    \n",
      "_________________________________________________________________\n",
      "block3_conv4 (Conv2D)        (None, 12, 12, 256)       590080    \n",
      "_________________________________________________________________\n",
      "block3_pool (MaxPooling2D)   (None, 6, 6, 256)         0         \n",
      "_________________________________________________________________\n",
      "block4_conv1 (Conv2D)        (None, 6, 6, 512)         1180160   \n",
      "_________________________________________________________________\n",
      "block4_conv2 (Conv2D)        (None, 6, 6, 512)         2359808   \n",
      "_________________________________________________________________\n",
      "block4_conv3 (Conv2D)        (None, 6, 6, 512)         2359808   \n",
      "_________________________________________________________________\n",
      "block4_conv4 (Conv2D)        (None, 6, 6, 512)         2359808   \n",
      "_________________________________________________________________\n",
      "block4_pool (MaxPooling2D)   (None, 3, 3, 512)         0         \n",
      "_________________________________________________________________\n",
      "block5_conv1 (Conv2D)        (None, 3, 3, 512)         2359808   \n",
      "_________________________________________________________________\n",
      "block5_conv2 (Conv2D)        (None, 3, 3, 512)         2359808   \n",
      "_________________________________________________________________\n",
      "block5_conv3 (Conv2D)        (None, 3, 3, 512)         2359808   \n",
      "_________________________________________________________________\n",
      "block5_conv4 (Conv2D)        (None, 3, 3, 512)         2359808   \n",
      "_________________________________________________________________\n",
      "block5_pool (MaxPooling2D)   (None, 1, 1, 512)         0         \n",
      "_________________________________________________________________\n",
      "flatten_2 (Flatten)          (None, 512)               0         \n",
      "_________________________________________________________________\n",
      "dense_6 (Dense)              (None, 512)               262656    \n",
      "_________________________________________________________________\n",
      "dropout_4 (Dropout)          (None, 512)               0         \n",
      "_________________________________________________________________\n",
      "dense_7 (Dense)              (None, 512)               262656    \n",
      "_________________________________________________________________\n",
      "dropout_5 (Dropout)          (None, 512)               0         \n",
      "_________________________________________________________________\n",
      "dense_8 (Dense)              (None, 1)                 513       \n",
      "=================================================================\n",
      "Total params: 20,550,209\n",
      "Trainable params: 18,224,641\n",
      "Non-trainable params: 2,325,568\n",
      "_________________________________________________________________\n"
     ]
    }
   ],
   "source": [
    "test_2.summary()"
   ]
  },
  {
   "cell_type": "markdown",
   "metadata": {},
   "source": [
    "# Comparing Models "
   ]
  },
  {
   "cell_type": "code",
   "execution_count": 189,
   "metadata": {},
   "outputs": [],
   "source": [
    "from tensorflow.keras.preprocessing.image import img_to_array\n",
    "from tensorflow.keras.models import load_model"
   ]
  },
  {
   "cell_type": "code",
   "execution_count": 190,
   "metadata": {},
   "outputs": [
    {
     "data": {
      "text/plain": [
       "((8268, 50, 50, 3), (8268,))"
      ]
     },
     "execution_count": 190,
     "metadata": {},
     "output_type": "execute_result"
    }
   ],
   "source": [
    "# load and scale testing images\n",
    "test_imgs_scaled = test_data / 255.\n",
    "test_imgs_scaled.shape, test_labels.shape"
   ]
  },
  {
   "cell_type": "code",
   "execution_count": 191,
   "metadata": {},
   "outputs": [],
   "source": [
    "# load saved models\n",
    "basic_cnn = load_model('my_cnn.h5')\n",
    "img_aug_cnn = load_model('my_vgg.h5')"
   ]
  },
  {
   "cell_type": "code",
   "execution_count": 192,
   "metadata": {},
   "outputs": [],
   "source": [
    "# Make Predictions on Test Data\n",
    "basic_cnn_preds = basic_cnn.predict(test_imgs_scaled, batch_size=512)\n",
    "vgg_ft_preds = img_aug_cnn.predict(test_imgs_scaled, batch_size=512)"
   ]
  },
  {
   "cell_type": "code",
   "execution_count": 193,
   "metadata": {},
   "outputs": [],
   "source": [
    "basic_cnn_pred_labels = le.inverse_transform([1 if pred > 0.5 else 0 \n",
    "                                                  for pred in basic_cnn_preds.ravel()])"
   ]
  },
  {
   "cell_type": "code",
   "execution_count": 194,
   "metadata": {},
   "outputs": [],
   "source": []
  },
  {
   "cell_type": "code",
   "execution_count": 200,
   "metadata": {},
   "outputs": [],
   "source": [
    "# Found this cool python script which defines metrics\n",
    "import model_evaluation_utils as meu"
   ]
  },
  {
   "cell_type": "code",
   "execution_count": 201,
   "metadata": {},
   "outputs": [],
   "source": [
    "basic_cnn_metrics = meu.get_metrics(true_labels=test_labels, predicted_labels=basic_cnn_pred_labels)\n",
    "\n",
    "vgg_ft_metrics = meu.get_metrics(true_labels=test_labels, predicted_labels=vgg_ft_preds_labels)"
   ]
  },
  {
   "cell_type": "code",
   "execution_count": 202,
   "metadata": {},
   "outputs": [
    {
     "data": {
      "text/html": [
       "<div>\n",
       "<style scoped>\n",
       "    .dataframe tbody tr th:only-of-type {\n",
       "        vertical-align: middle;\n",
       "    }\n",
       "\n",
       "    .dataframe tbody tr th {\n",
       "        vertical-align: top;\n",
       "    }\n",
       "\n",
       "    .dataframe thead th {\n",
       "        text-align: right;\n",
       "    }\n",
       "</style>\n",
       "<table border=\"1\" class=\"dataframe\">\n",
       "  <thead>\n",
       "    <tr style=\"text-align: right;\">\n",
       "      <th></th>\n",
       "      <th>Accuracy</th>\n",
       "      <th>F1 Score:</th>\n",
       "      <th>Precision:</th>\n",
       "      <th>Recall</th>\n",
       "    </tr>\n",
       "  </thead>\n",
       "  <tbody>\n",
       "    <tr>\n",
       "      <th>0</th>\n",
       "      <td>0.9418</td>\n",
       "      <td>0.9418</td>\n",
       "      <td>0.9421</td>\n",
       "      <td>0.9418</td>\n",
       "    </tr>\n",
       "    <tr>\n",
       "      <th>1</th>\n",
       "      <td>0.9367</td>\n",
       "      <td>0.9367</td>\n",
       "      <td>0.9380</td>\n",
       "      <td>0.9367</td>\n",
       "    </tr>\n",
       "  </tbody>\n",
       "</table>\n",
       "</div>"
      ],
      "text/plain": [
       "   Accuracy  F1 Score:  Precision:  Recall\n",
       "0    0.9418     0.9418      0.9421  0.9418\n",
       "1    0.9367     0.9367      0.9380  0.9367"
      ]
     },
     "execution_count": 202,
     "metadata": {},
     "output_type": "execute_result"
    }
   ],
   "source": [
    "comparison_df = pd.DataFrame([basic_cnn_metrics, vgg_ft_metrics])\n",
    "comparison_df"
   ]
  }
 ],
 "metadata": {
  "kernelspec": {
   "display_name": "Python 3",
   "language": "python",
   "name": "python3"
  },
  "language_info": {
   "codemirror_mode": {
    "name": "ipython",
    "version": 3
   },
   "file_extension": ".py",
   "mimetype": "text/x-python",
   "name": "python",
   "nbconvert_exporter": "python",
   "pygments_lexer": "ipython3",
   "version": "3.7.4"
  }
 },
 "nbformat": 4,
 "nbformat_minor": 2
}
